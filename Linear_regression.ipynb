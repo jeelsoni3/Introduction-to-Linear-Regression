{
 "cells": [
  {
   "cell_type": "code",
   "execution_count": 1,
   "metadata": {
    "colab": {
     "base_uri": "https://localhost:8080/",
     "height": 73
    },
    "id": "_BToXP4YVlOq",
    "outputId": "ef1779bd-9683-4753-ab20-93d4d081cab5"
   },
   "outputs": [],
   "source": [
    "import pandas as pd\n",
    "import numpy as np\n",
    "import seaborn as sns\n",
    "import matplotlib.pyplot as plt"
   ]
  },
  {
   "cell_type": "code",
   "execution_count": 2,
   "metadata": {
    "id": "vUhvKmpZWedW"
   },
   "outputs": [],
   "source": [
    "data = pd.read_csv('given_data.csv')"
   ]
  },
  {
   "cell_type": "code",
   "execution_count": 13,
   "metadata": {},
   "outputs": [
    {
     "data": {
      "text/html": [
       "<div>\n",
       "<style scoped>\n",
       "    .dataframe tbody tr th:only-of-type {\n",
       "        vertical-align: middle;\n",
       "    }\n",
       "\n",
       "    .dataframe tbody tr th {\n",
       "        vertical-align: top;\n",
       "    }\n",
       "\n",
       "    .dataframe thead th {\n",
       "        text-align: right;\n",
       "    }\n",
       "</style>\n",
       "<table border=\"1\" class=\"dataframe\">\n",
       "  <thead>\n",
       "    <tr style=\"text-align: right;\">\n",
       "      <th></th>\n",
       "      <th>X</th>\n",
       "      <th>Y</th>\n",
       "      <th>X_normalized</th>\n",
       "      <th>Y_normalized</th>\n",
       "      <th>Predicted_Y_GD</th>\n",
       "    </tr>\n",
       "  </thead>\n",
       "  <tbody>\n",
       "    <tr>\n",
       "      <th>0</th>\n",
       "      <td>89</td>\n",
       "      <td>21</td>\n",
       "      <td>0.933333</td>\n",
       "      <td>0.204301</td>\n",
       "      <td>0.446038</td>\n",
       "    </tr>\n",
       "    <tr>\n",
       "      <th>1</th>\n",
       "      <td>43</td>\n",
       "      <td>46</td>\n",
       "      <td>0.422222</td>\n",
       "      <td>0.473118</td>\n",
       "      <td>0.418770</td>\n",
       "    </tr>\n",
       "    <tr>\n",
       "      <th>2</th>\n",
       "      <td>36</td>\n",
       "      <td>3</td>\n",
       "      <td>0.344444</td>\n",
       "      <td>0.010753</td>\n",
       "      <td>0.414620</td>\n",
       "    </tr>\n",
       "    <tr>\n",
       "      <th>3</th>\n",
       "      <td>36</td>\n",
       "      <td>35</td>\n",
       "      <td>0.344444</td>\n",
       "      <td>0.354839</td>\n",
       "      <td>0.414620</td>\n",
       "    </tr>\n",
       "    <tr>\n",
       "      <th>4</th>\n",
       "      <td>95</td>\n",
       "      <td>67</td>\n",
       "      <td>1.000000</td>\n",
       "      <td>0.698925</td>\n",
       "      <td>0.449595</td>\n",
       "    </tr>\n",
       "  </tbody>\n",
       "</table>\n",
       "</div>"
      ],
      "text/plain": [
       "    X   Y  X_normalized  Y_normalized  Predicted_Y_GD\n",
       "0  89  21      0.933333      0.204301        0.446038\n",
       "1  43  46      0.422222      0.473118        0.418770\n",
       "2  36   3      0.344444      0.010753        0.414620\n",
       "3  36  35      0.344444      0.354839        0.414620\n",
       "4  95  67      1.000000      0.698925        0.449595"
      ]
     },
     "execution_count": 13,
     "metadata": {},
     "output_type": "execute_result"
    }
   ],
   "source": [
    "data.head()"
   ]
  },
  {
   "cell_type": "code",
   "execution_count": 4,
   "metadata": {},
   "outputs": [
    {
     "data": {
      "image/png": "[encoded data removed]",
      "text/plain": [
       "<Figure size 432x288 with 1 Axes>"
      ]
     },
     "metadata": {
      "needs_background": "light"
     },
     "output_type": "display_data"
    }
   ],
   "source": [
    "# Create a line plot using Seaborn\n",
    "sns.lineplot(x=data['X'], y=data['Y'])\n",
    "\n",
    "# Add labels and title\n",
    "plt.xlabel('X-axis Label')\n",
    "plt.ylabel('Y-axis Label')\n",
    "plt.title('Line Plot Example')\n",
    "\n",
    "# Show the plot\n",
    "plt.show()"
   ]
  },
  {
   "cell_type": "code",
   "execution_count": 5,
   "metadata": {},
   "outputs": [
    {
     "data": {
      "text/plain": [
       "(20, 2)"
      ]
     },
     "execution_count": 5,
     "metadata": {},
     "output_type": "execute_result"
    }
   ],
   "source": [
    "data.shape"
   ]
  },
  {
   "cell_type": "code",
   "execution_count": 6,
   "metadata": {},
   "outputs": [
    {
     "data": {
      "text/html": [
       "<div>\n",
       "<style scoped>\n",
       "    .dataframe tbody tr th:only-of-type {\n",
       "        vertical-align: middle;\n",
       "    }\n",
       "\n",
       "    .dataframe tbody tr th {\n",
       "        vertical-align: top;\n",
       "    }\n",
       "\n",
       "    .dataframe thead th {\n",
       "        text-align: right;\n",
       "    }\n",
       "</style>\n",
       "<table border=\"1\" class=\"dataframe\">\n",
       "  <thead>\n",
       "    <tr style=\"text-align: right;\">\n",
       "      <th></th>\n",
       "      <th>X</th>\n",
       "      <th>Y</th>\n",
       "    </tr>\n",
       "  </thead>\n",
       "  <tbody>\n",
       "    <tr>\n",
       "      <th>0</th>\n",
       "      <td>89</td>\n",
       "      <td>21</td>\n",
       "    </tr>\n",
       "    <tr>\n",
       "      <th>1</th>\n",
       "      <td>43</td>\n",
       "      <td>46</td>\n",
       "    </tr>\n",
       "    <tr>\n",
       "      <th>2</th>\n",
       "      <td>36</td>\n",
       "      <td>3</td>\n",
       "    </tr>\n",
       "    <tr>\n",
       "      <th>3</th>\n",
       "      <td>36</td>\n",
       "      <td>35</td>\n",
       "    </tr>\n",
       "    <tr>\n",
       "      <th>4</th>\n",
       "      <td>95</td>\n",
       "      <td>67</td>\n",
       "    </tr>\n",
       "  </tbody>\n",
       "</table>\n",
       "</div>"
      ],
      "text/plain": [
       "    X   Y\n",
       "0  89  21\n",
       "1  43  46\n",
       "2  36   3\n",
       "3  36  35\n",
       "4  95  67"
      ]
     },
     "execution_count": 6,
     "metadata": {},
     "output_type": "execute_result"
    }
   ],
   "source": [
    "data.head()"
   ]
  },
  {
   "cell_type": "code",
   "execution_count": 7,
   "metadata": {},
   "outputs": [
    {
     "data": {
      "text/html": [
       "<div>\n",
       "<style scoped>\n",
       "    .dataframe tbody tr th:only-of-type {\n",
       "        vertical-align: middle;\n",
       "    }\n",
       "\n",
       "    .dataframe tbody tr th {\n",
       "        vertical-align: top;\n",
       "    }\n",
       "\n",
       "    .dataframe thead th {\n",
       "        text-align: right;\n",
       "    }\n",
       "</style>\n",
       "<table border=\"1\" class=\"dataframe\">\n",
       "  <thead>\n",
       "    <tr style=\"text-align: right;\">\n",
       "      <th></th>\n",
       "      <th>X</th>\n",
       "      <th>Y</th>\n",
       "    </tr>\n",
       "  </thead>\n",
       "  <tbody>\n",
       "    <tr>\n",
       "      <th>15</th>\n",
       "      <td>5</td>\n",
       "      <td>20</td>\n",
       "    </tr>\n",
       "    <tr>\n",
       "      <th>16</th>\n",
       "      <td>36</td>\n",
       "      <td>56</td>\n",
       "    </tr>\n",
       "    <tr>\n",
       "      <th>17</th>\n",
       "      <td>66</td>\n",
       "      <td>2</td>\n",
       "    </tr>\n",
       "    <tr>\n",
       "      <th>18</th>\n",
       "      <td>72</td>\n",
       "      <td>47</td>\n",
       "    </tr>\n",
       "    <tr>\n",
       "      <th>19</th>\n",
       "      <td>40</td>\n",
       "      <td>15</td>\n",
       "    </tr>\n",
       "  </tbody>\n",
       "</table>\n",
       "</div>"
      ],
      "text/plain": [
       "     X   Y\n",
       "15   5  20\n",
       "16  36  56\n",
       "17  66   2\n",
       "18  72  47\n",
       "19  40  15"
      ]
     },
     "execution_count": 7,
     "metadata": {},
     "output_type": "execute_result"
    }
   ],
   "source": [
    "data.tail()"
   ]
  },
  {
   "cell_type": "code",
   "execution_count": 8,
   "metadata": {},
   "outputs": [
    {
     "data": {
      "text/html": [
       "<div>\n",
       "<style scoped>\n",
       "    .dataframe tbody tr th:only-of-type {\n",
       "        vertical-align: middle;\n",
       "    }\n",
       "\n",
       "    .dataframe tbody tr th {\n",
       "        vertical-align: top;\n",
       "    }\n",
       "\n",
       "    .dataframe thead th {\n",
       "        text-align: right;\n",
       "    }\n",
       "</style>\n",
       "<table border=\"1\" class=\"dataframe\">\n",
       "  <thead>\n",
       "    <tr style=\"text-align: right;\">\n",
       "      <th></th>\n",
       "      <th>X</th>\n",
       "      <th>Y</th>\n",
       "    </tr>\n",
       "  </thead>\n",
       "  <tbody>\n",
       "    <tr>\n",
       "      <th>count</th>\n",
       "      <td>20.000000</td>\n",
       "      <td>20.000000</td>\n",
       "    </tr>\n",
       "    <tr>\n",
       "      <th>mean</th>\n",
       "      <td>42.950000</td>\n",
       "      <td>41.050000</td>\n",
       "    </tr>\n",
       "    <tr>\n",
       "      <th>std</th>\n",
       "      <td>25.508461</td>\n",
       "      <td>26.654663</td>\n",
       "    </tr>\n",
       "    <tr>\n",
       "      <th>min</th>\n",
       "      <td>5.000000</td>\n",
       "      <td>2.000000</td>\n",
       "    </tr>\n",
       "    <tr>\n",
       "      <th>25%</th>\n",
       "      <td>28.250000</td>\n",
       "      <td>20.750000</td>\n",
       "    </tr>\n",
       "    <tr>\n",
       "      <th>50%</th>\n",
       "      <td>37.000000</td>\n",
       "      <td>36.500000</td>\n",
       "    </tr>\n",
       "    <tr>\n",
       "      <th>75%</th>\n",
       "      <td>64.500000</td>\n",
       "      <td>56.500000</td>\n",
       "    </tr>\n",
       "    <tr>\n",
       "      <th>max</th>\n",
       "      <td>95.000000</td>\n",
       "      <td>95.000000</td>\n",
       "    </tr>\n",
       "  </tbody>\n",
       "</table>\n",
       "</div>"
      ],
      "text/plain": [
       "               X          Y\n",
       "count  20.000000  20.000000\n",
       "mean   42.950000  41.050000\n",
       "std    25.508461  26.654663\n",
       "min     5.000000   2.000000\n",
       "25%    28.250000  20.750000\n",
       "50%    37.000000  36.500000\n",
       "75%    64.500000  56.500000\n",
       "max    95.000000  95.000000"
      ]
     },
     "execution_count": 8,
     "metadata": {},
     "output_type": "execute_result"
    }
   ],
   "source": [
    "data.describe()"
   ]
  },
  {
   "cell_type": "code",
   "execution_count": 9,
   "metadata": {
    "id": "uwzQEZc3WPIP"
   },
   "outputs": [],
   "source": [
    "def compute_cost(b0, b1, data):\n",
    "    \"\"\" Compute the cost function (Mean Squared Error). \"\"\"\n",
    "    total_error = 0.0\n",
    "    for i in range(len(data)):\n",
    "        x = data.iloc[i]['X_normalized']\n",
    "        y = data.iloc[i]['Y_normalized']\n",
    "        total_error += (y - (b1 * x + b0)) ** 2\n",
    "    return total_error / len(data)\n",
    "\n",
    "def step_gradient(b0_current, b1_current, data, learning_rate):\n",
    "    \"\"\" Perform one step of gradient descent to update b0 and b1. \"\"\"\n",
    "    b0_gradient = 0\n",
    "    b1_gradient = 0\n",
    "    N = float(len(data))\n",
    "    for i in range(len(data)):\n",
    "        x = data.iloc[i]['X_normalized']\n",
    "        y = data.iloc[i]['Y_normalized']\n",
    "        b0_gradient += -(2/N) * (y - ((b1_current * x) + b0_current))\n",
    "        b1_gradient += -(2/N) * x * (y - ((b1_current * x) + b0_current))\n",
    "    new_b0 = b0_current - (learning_rate * b0_gradient)\n",
    "    new_b1 = b1_current - (learning_rate * b1_gradient)\n",
    "    return [new_b0, new_b1]\n",
    "\n",
    "def gradient_descent_runner(data, starting_b0, starting_b1, learning_rate, num_iterations):\n",
    "    \"\"\" Execute the gradient descent algorithm for a specified number of iterations. \"\"\"\n",
    "    b0 = starting_b0\n",
    "    b1 = starting_b1\n",
    "    for i in range(num_iterations):\n",
    "        b0, b1 = step_gradient(b0, b1, data, learning_rate)\n",
    "    return [b0, b1]\n",
    "\n",
    "def normalize_data(data):\n",
    "    \"\"\" Normalize data using min-max normalization \"\"\"\n",
    "    min_val = data.min()\n",
    "    max_val = data.max()\n",
    "    normalized_data = (data - min_val) / (max_val - min_val)\n",
    "    return normalized_data, min_val, max_val\n",
    "\n"
   ]
  },
  {
   "cell_type": "code",
   "execution_count": 10,
   "metadata": {
    "colab": {
     "base_uri": "https://localhost:8080/"
    },
    "id": "FHOcLKMyVmsv",
    "outputId": "e8aae701-9586-49a9-c980-fc294d5972d2"
   },
   "outputs": [
    {
     "data": {
      "text/html": [
       "<div>\n",
       "<style scoped>\n",
       "    .dataframe tbody tr th:only-of-type {\n",
       "        vertical-align: middle;\n",
       "    }\n",
       "\n",
       "    .dataframe tbody tr th {\n",
       "        vertical-align: top;\n",
       "    }\n",
       "\n",
       "    .dataframe thead th {\n",
       "        text-align: right;\n",
       "    }\n",
       "</style>\n",
       "<table border=\"1\" class=\"dataframe\">\n",
       "  <thead>\n",
       "    <tr style=\"text-align: right;\">\n",
       "      <th></th>\n",
       "      <th>X</th>\n",
       "      <th>Y</th>\n",
       "      <th>X_normalized</th>\n",
       "      <th>Y_normalized</th>\n",
       "    </tr>\n",
       "  </thead>\n",
       "  <tbody>\n",
       "    <tr>\n",
       "      <th>0</th>\n",
       "      <td>89</td>\n",
       "      <td>21</td>\n",
       "      <td>0.933333</td>\n",
       "      <td>0.204301</td>\n",
       "    </tr>\n",
       "    <tr>\n",
       "      <th>1</th>\n",
       "      <td>43</td>\n",
       "      <td>46</td>\n",
       "      <td>0.422222</td>\n",
       "      <td>0.473118</td>\n",
       "    </tr>\n",
       "    <tr>\n",
       "      <th>2</th>\n",
       "      <td>36</td>\n",
       "      <td>3</td>\n",
       "      <td>0.344444</td>\n",
       "      <td>0.010753</td>\n",
       "    </tr>\n",
       "    <tr>\n",
       "      <th>3</th>\n",
       "      <td>36</td>\n",
       "      <td>35</td>\n",
       "      <td>0.344444</td>\n",
       "      <td>0.354839</td>\n",
       "    </tr>\n",
       "    <tr>\n",
       "      <th>4</th>\n",
       "      <td>95</td>\n",
       "      <td>67</td>\n",
       "      <td>1.000000</td>\n",
       "      <td>0.698925</td>\n",
       "    </tr>\n",
       "  </tbody>\n",
       "</table>\n",
       "</div>"
      ],
      "text/plain": [
       "    X   Y  X_normalized  Y_normalized\n",
       "0  89  21      0.933333      0.204301\n",
       "1  43  46      0.422222      0.473118\n",
       "2  36   3      0.344444      0.010753\n",
       "3  36  35      0.344444      0.354839\n",
       "4  95  67      1.000000      0.698925"
      ]
     },
     "execution_count": 10,
     "metadata": {},
     "output_type": "execute_result"
    }
   ],
   "source": [
    "# Parameters for gradient descent\n",
    "learning_rate = 0.01\n",
    "initial_b0 = 0  # initial y-intercept guess\n",
    "initial_b1 = 0  # initial slope guess\n",
    "num_iterations = 1000\n",
    "\n",
    "# Normalize 'X' and 'Y' columns separately\n",
    "data['X_normalized'], min_x, max_x = normalize_data(data['X'])\n",
    "data['Y_normalized'], min_y, max_y = normalize_data(data['Y'])\n",
    "\n",
    "data.head()"
   ]
  },
  {
   "cell_type": "code",
   "execution_count": 12,
   "metadata": {},
   "outputs": [
    {
     "data": {
      "image/png": "[encoded data removed]",
      "text/plain": [
       "<Figure size 432x288 with 1 Axes>"
      ]
     },
     "metadata": {
      "needs_background": "light"
     },
     "output_type": "display_data"
    }
   ],
   "source": [
    "# Create a line plot using Seaborn\n",
    "sns.lineplot(x=data['X_normalized'], y=data['Y_normalized'])\n",
    "\n",
    "# Add labels and title\n",
    "plt.xlabel('X-axis Label')\n",
    "plt.ylabel('Y-axis Label')\n",
    "plt.title('Line Plot Example')\n",
    "\n",
    "# Show the plot\n",
    "plt.show()"
   ]
  },
  {
   "cell_type": "code",
   "execution_count": 11,
   "metadata": {},
   "outputs": [
    {
     "data": {
      "text/plain": [
       "-0.0013952210832715028"
      ]
     },
     "execution_count": 11,
     "metadata": {},
     "output_type": "execute_result"
    }
   ],
   "source": [
    "# Running the gradient descent\n",
    "b0, b1 = gradient_descent_runner(data, initial_b0, initial_b1, learning_rate, num_iterations)\n",
    "\n",
    "\n",
    "data['Predicted_Y_GD'] = b1 * data['X_normalized'] + b0\n",
    "\n",
    "'''\n",
    "    R2 = 1−sum squared regression (SSR) total sum of squares (SST),= 1 − ∑(yi−yi^)2 ∑(yi−y¯)2. \n",
    "    The sum squared regression is the sum of the residuals squared, and the total sum of squares is the sum of \n",
    "    the distance the data is away from the mean all squared.\n",
    "'''\n",
    "\n",
    "SS_res = sum((data['Y_normalized'] - data['Predicted_Y_GD'])**2)\n",
    "SS_tot = sum((data['Y_normalized'] - np.mean(data['Y_normalized']))**2)\n",
    "r_squared = 1 - (SS_res/SS_tot)\n",
    "\n",
    "r_squared"
   ]
  },
  {
   "cell_type": "code",
   "execution_count": null,
   "metadata": {},
   "outputs": [],
   "source": []
  }
 ],
 "metadata": {
  "colab": {
   "provenance": []
  },
  "kernelspec": {
   "display_name": "Python 3 (ipykernel)",
   "language": "python",
   "name": "python3"
  },
  "language_info": {
   "codemirror_mode": {
    "name": "ipython",
    "version": 3
   },
   "file_extension": ".py",
   "mimetype": "text/x-python",
   "name": "python",
   "nbconvert_exporter": "python",
   "pygments_lexer": "ipython3",
   "version": "3.11.5"
  }
 },
 "nbformat": 4,
 "nbformat_minor": 1
}
